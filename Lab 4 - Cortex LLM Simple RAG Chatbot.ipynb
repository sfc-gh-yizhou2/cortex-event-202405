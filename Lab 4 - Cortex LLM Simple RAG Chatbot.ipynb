{
 "metadata": {
  "kernelspec": {
   "display_name": "Streamlit Notebook",
   "name": "streamlit"
  }
 },
 "nbformat_minor": 5,
 "nbformat": 4,
 "cells": [
  {
   "cell_type": "markdown",
   "id": "3775908f-ca36-4846-8f38-5adca39217f2",
   "metadata": {
    "name": "Intro",
    "collapsed": false
   },
   "source": "# ❄️ Snowflake Cortex: Simple RAG Example ❄️"
  },
  {
   "cell_type": "code",
   "id": "8d50cbf4-0c8d-4950-86cb-114990437ac9",
   "metadata": {
    "language": "python",
    "name": "Libraries",
    "collapsed": false
   },
   "source": "#Import python packages & establish session\nimport pandas as pd\nfrom PyPDF2 import PdfFileReader\nfrom snowflake.snowpark.files import SnowflakeFile\nfrom io import BytesIO\nfrom snowflake.snowpark.types import StringType, StructField, StructType\nfrom langchain.text_splitter import RecursiveCharacterTextSplitter\n\nfrom snowflake.snowpark.context import get_active_session\nsession = get_active_session()",
   "execution_count": null,
   "outputs": []
  },
  {
   "cell_type": "code",
   "id": "c695373e-ac74-4b62-a1f1-08206cbd5c81",
   "metadata": {
    "language": "sql",
    "name": "View_PDFs",
    "collapsed": false
   },
   "source": "ls @hol.public.pdf",
   "execution_count": null,
   "outputs": []
  },
  {
   "cell_type": "code",
   "id": "f7907fe5-8c45-4005-b43f-16ca4823fb02",
   "metadata": {
    "language": "python",
    "name": "CreateExtractTextUDF",
    "collapsed": false
   },
   "outputs": [],
   "source": "# Create a Snowpark based function to extract text from PDFs\ndef readpdf(file_path):\n    whole_text = \"\"\n    with SnowflakeFile.open(file_path, 'rb') as file:\n        f = BytesIO(file.readall())\n        pdf_reader = PdfFileReader(f)\n        whole_text = \"\"\n        for page in pdf_reader.pages:\n            whole_text += page.extract_text()\n    return whole_text",
   "execution_count": null
  },
  {
   "cell_type": "code",
   "id": "697c8657-66b2-46f8-8f2e-54f40faf750e",
   "metadata": {
    "language": "python",
    "name": "RegisterUDF",
    "collapsed": false
   },
   "outputs": [],
   "source": "# Register the UDF. \n# Convert the cell to markdown to prevent rerunning later.\nsession.udf.register(\n    func = readpdf\n  , return_type = StringType()\n  , input_types = [StringType()]\n  , is_permanent = True\n  , name = 'SNOWPARK_PDF'\n  , replace = True\n  , packages=['snowflake-snowpark-python','pypdf2']\n  , stage_location = 'hol.public.PDF'\n)",
   "execution_count": null
  },
  {
   "cell_type": "code",
   "id": "0d844dd6-2ca4-497e-a0fd-1b9816dfba1b",
   "metadata": {
    "language": "sql",
    "name": "CreateRaw_TextTable",
    "collapsed": false
   },
   "outputs": [],
   "source": "CREATE OR REPLACE TABLE RAW_TEXT AS\nSELECT \n    relative_path, \n    file_url, \n    snowpark_pdf(build_scoped_file_url(@hol.public.PDF, relative_path)) as raw_text\nfrom directory(@hol.public.PDF)\nWHERE RELATIVE_PATH LIKE '%.pdf';",
   "execution_count": null
  },
  {
   "cell_type": "code",
   "id": "f4ed9ab5-38a0-4e7b-8f1e-20577403c5ba",
   "metadata": {
    "language": "sql",
    "name": "ViewRaw_TextTable",
    "collapsed": false
   },
   "outputs": [],
   "source": "select * from raw_text limit 10;",
   "execution_count": null
  },
  {
   "cell_type": "markdown",
   "id": "b2630d11-31de-43a1-8a87-496b7951944d",
   "metadata": {
    "name": "Chunking",
    "collapsed": false
   },
   "source": "## A note on chunking\nChunking is the process of splitting a large body of text into smaller 'chunks' whilst attempting to keep as much relevant information as possible. Make the chunks too small and you run the risk of removing key information that the model requires to answer the question. Too large and it may be harder to retreive the correct body of text from the vector search - or spend tokens excessively.\n\nThere are many strategies towards chunking. Eg - pass the most relevant, top n relevant chunks, or pass the most relevent chunk + the chunk either side of that one. Play around and see what works for your use case!"
  },
  {
   "cell_type": "code",
   "id": "c948fbc3-0ad8-4cc7-9e56-11e7e67c9009",
   "metadata": {
    "language": "python",
    "name": "CreateTextChunkerUDTF",
    "collapsed": false
   },
   "outputs": [],
   "source": "\n#A class for chunking text and returning a table via UDTF\nclass text_chunker:\n\n    def process(self,text):        \n        text_raw=[]\n        text_raw.append(text) \n        \n        text_splitter = RecursiveCharacterTextSplitter(\n            separators = [\"\\n\"], # Define an appropriate separator. New line is good typically!\n            chunk_size = 1000, #Adjust this as you see fit\n            chunk_overlap  = 50, #This let's text have some form of overlap. Useful for keeping chunks contextual\n            length_function = len,\n            add_start_index = True #Optional but useful if you'd like to feed the chunk before/after\n        )\n    \n        chunks = text_splitter.create_documents(text_raw)\n        df = pd.DataFrame(chunks, columns=['chunks','meta'])\n        \n        yield from df.itertuples(index=False, name=None)",
   "execution_count": null
  },
  {
   "cell_type": "code",
   "id": "13f6c569-d58f-4ec1-bb2b-a749653889f8",
   "metadata": {
    "language": "python",
    "name": "RegisterUDTF",
    "collapsed": false
   },
   "outputs": [],
   "source": "#Register the UDTF - set the stage location\nschema = StructType([\n     StructField(\"chunk\", StringType()),\n     StructField(\"meta\", StringType()),\n ])\n\nsession.udtf.register( \n    handler = text_chunker,\n    output_schema= schema, \n    input_types = [StringType()] , \n    is_permanent = True , \n    name = 'CHUNK_TEXT' , \n    replace = True , \n    packages=['pandas','langchain'], stage_location = 'HOL.PUBLIC.PDF' )",
   "execution_count": null
  },
  {
   "cell_type": "code",
   "id": "32fe8e98-cfa0-45c1-b2c6-8ab5625682fc",
   "metadata": {
    "language": "sql",
    "name": "CreateChuck_TextTable",
    "collapsed": false
   },
   "outputs": [],
   "source": "--Create the chunked version of the table\nCREATE OR REPLACE TABLE CHUNK_TEXT AS\nSELECT\n        relative_path,\n        func.*\n    FROM raw_text AS raw,\n         TABLE(chunk_text(raw_text)) as func;",
   "execution_count": null
  },
  {
   "cell_type": "code",
   "id": "0bf1b96b-102c-439c-aaf7-1f2e6731545b",
   "metadata": {
    "language": "sql",
    "name": "ViewChunk_TextTable",
    "collapsed": false
   },
   "outputs": [],
   "source": "select * from chunk_text limit 10;",
   "execution_count": null
  },
  {
   "cell_type": "code",
   "id": "ab56aa86-288b-4a92-a3f4-28341f199add",
   "metadata": {
    "language": "sql",
    "name": "CreateVector_StoreTable",
    "collapsed": false
   },
   "outputs": [],
   "source": "--Convert your chunks to embeddings\nCREATE OR REPLACE TABLE VECTOR_STORE AS\nSELECT\nRELATIVE_PATH as EPISODE_NAME,\nCHUNK AS CHUNK,\nsnowflake.cortex.embed_text('e5-base-v2', chunk) as chunk_embedding\nFROM CHUNK_TEXT;",
   "execution_count": null
  },
  {
   "cell_type": "code",
   "id": "6112c0f9-6fcb-49d8-a0d9-1a7fff127783",
   "metadata": {
    "language": "sql",
    "name": "CreateEmbedings"
   },
   "outputs": [],
   "source": "--Vector distance allows use to find the most similar chunk to a question\nSELECT EPISODE_NAME, CHUNK from VECTOR_STORE\n            ORDER BY VECTOR_L2_DISTANCE(\n            snowflake.cortex.embed_text('e5-base-v2', \n            'What is Snowpark?'\n            ), CHUNK_EMBEDDING\n            ) limit 1\n        ;",
   "execution_count": null
  },
  {
   "cell_type": "code",
   "id": "d3646c14-4e02-4c5d-b1e4-f6fb7c793aee",
   "metadata": {
    "language": "sql",
    "name": "RAG_Example",
    "collapsed": false
   },
   "outputs": [],
   "source": "--Pass the chunk we need along with the prompt to get a better structured answer from the LLM\nSELECT snowflake.cortex.complete(\n    'mistral-7b', \n    CONCAT( \n        'Answer the question based on the context. Be concise.','Context: ',\n        (\n            SELECT chunk FROM VECTOR_STORE \n            ORDER BY vector_l2_distance(\n            snowflake.cortex.embed_text('e5-base-v2', \n            'What is Snowflake Cortex?'\n            ), chunk_embedding\n            ) LIMIT 1\n        ),\n        'Question: ', \n        'What is Snowflake Cortex?',\n        'Answer: '\n    )\n) as response;",
   "execution_count": null
  }
 ]
}